{
 "cells": [
  {
   "cell_type": "code",
   "execution_count": 11,
   "id": "3ed674f3-5f58-47c9-bfe7-90a6b22f18a8",
   "metadata": {},
   "outputs": [
    {
     "data": {
      "text/html": [
       "<ol>\n",
       "\t<li>1.69722436226801</li>\n",
       "\t<li>5.30277563773199</li>\n",
       "</ol>\n"
      ],
      "text/latex": [
       "\\begin{enumerate}\n",
       "\\item 1.69722436226801\n",
       "\\item 5.30277563773199\n",
       "\\end{enumerate}\n"
      ],
      "text/markdown": [
       "1. 1.69722436226801\n",
       "2. 5.30277563773199\n",
       "\n",
       "\n"
      ],
      "text/plain": [
       "[[1]]\n",
       "[1] 1.697224\n",
       "\n",
       "[[2]]\n",
       "[1] 5.302776\n"
      ]
     },
     "metadata": {},
     "output_type": "display_data"
    }
   ],
   "source": [
    "abc_formula <- function(a, b, c) {\n",
    "    d <- sqrt((b*b) - (4 * a * c))\n",
    "\n",
    "    x_up <- (-b + d) / (2 * a)\n",
    "    x_low <- (-b - d) / (2 * a)\n",
    "\n",
    "    list(x_up, x_low)\n",
    "}\n",
    "\n",
    "# y = (7-x)x\n",
    "# y = 7x - x^2\n",
    "# 9 = -x^2 + 7x\n",
    "# 0 = -x^2 +7x -9\n",
    "\n",
    "abc_formula(-1, 7, -9)"
   ]
  },
  {
   "cell_type": "code",
   "execution_count": 142,
   "id": "1332b90b-74e0-4362-8de7-008e171c63b1",
   "metadata": {},
   "outputs": [
    {
     "name": "stdout",
     "output_type": "stream",
     "text": [
      "[[1]]\n",
      "[1] 47847467\n",
      "\n",
      "[[1]]\n",
      "[1] 2.071394e+14\n",
      "\n"
     ]
    }
   ],
   "source": [
    "# data <- readLines(\"sampleinput.txt\")\n",
    "data <- readLines(\"input.txt\")\n",
    "max_times_s <- strsplit(data[grepl(\"Time: \", data)],' ')[[1]][-1]\n",
    "min_distance_s <- strsplit(data[grepl(\"Distance: \", data)],' ')[[1]][-1]\n",
    "max_times=list(as.numeric(paste(max_times_s[max_times_s!=''], collapse='')))\n",
    "min_distances=list(as.numeric(paste(min_distance_s[min_distance_s!=''], collapse='')))\n",
    "print(max_times)\n",
    "print(min_distances)"
   ]
  },
  {
   "cell_type": "code",
   "execution_count": 143,
   "id": "4475a2a3-6236-4d53-9300-fa43219fd28e",
   "metadata": {},
   "outputs": [
    {
     "data": {
      "text/html": [
       "<table class=\"dataframe\">\n",
       "<caption>A matrix: 2 × 1</caption>\n",
       "<tbody>\n",
       "\t<tr><td>4813380</td></tr>\n",
       "\t<tr><td>43034087</td></tr>\n",
       "</tbody>\n",
       "</table>\n"
      ],
      "text/latex": [
       "A matrix: 2 × 1\n",
       "\\begin{tabular}{l}\n",
       "\t 4813380\\\\\n",
       "\t 43034087\\\\\n",
       "\\end{tabular}\n"
      ],
      "text/markdown": [
       "\n",
       "A matrix: 2 × 1\n",
       "\n",
       "| 4813380 |\n",
       "| 43034087 |\n",
       "\n"
      ],
      "text/plain": [
       "     [,1]    \n",
       "[1,] 4813380 \n",
       "[2,] 43034087"
      ]
     },
     "metadata": {},
     "output_type": "display_data"
    }
   ],
   "source": [
    "res = mapply(function (max_time, min_dist) {\n",
    "        result <- abc_formula(-1, max_time, -min_dist)\n",
    "       list(ceiling(result[[1]]+.001), floor(result[[2]]-.001)) \n",
    "    }, max_times, min_distances)\n",
    "res\n",
    "# for(idx in 1:length(max_times)) {\n",
    "#     max_time = max_times[[idx]]\n",
    "#     min_dist = min_distances[[idx]]\n",
    "\n",
    "#     result <- abc_formula(-1, max_time, -min_dist)\n",
    "#     print(list(ceiling(result[[1]]), floor(result[[2]])))\n",
    "# }"
   ]
  },
  {
   "cell_type": "code",
   "execution_count": 144,
   "id": "d3660c74-df96-4485-8849-f0be9a9d014a",
   "metadata": {},
   "outputs": [
    {
     "data": {
      "text/html": [
       "38220708"
      ],
      "text/latex": [
       "38220708"
      ],
      "text/markdown": [
       "38220708"
      ],
      "text/plain": [
       "[1] 38220708"
      ]
     },
     "metadata": {},
     "output_type": "display_data"
    }
   ],
   "source": [
    "winnings = mapply(function (min,max) {\n",
    "    max-min+1\n",
    "}, res[1,], res[2,])\n",
    "winnings"
   ]
  },
  {
   "cell_type": "code",
   "execution_count": null,
   "id": "83b722bd-a3c5-4d6e-b10b-a69e9f473484",
   "metadata": {},
   "outputs": [],
   "source": []
  }
 ],
 "metadata": {
  "kernelspec": {
   "display_name": "R",
   "language": "R",
   "name": "ir"
  },
  "language_info": {
   "codemirror_mode": "r",
   "file_extension": ".r",
   "mimetype": "text/x-r-source",
   "name": "R",
   "pygments_lexer": "r",
   "version": "4.3.1"
  }
 },
 "nbformat": 4,
 "nbformat_minor": 5
}
