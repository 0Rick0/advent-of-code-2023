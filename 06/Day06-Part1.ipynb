{
 "cells": [
  {
   "cell_type": "code",
   "execution_count": 11,
   "id": "3ed674f3-5f58-47c9-bfe7-90a6b22f18a8",
   "metadata": {},
   "outputs": [
    {
     "data": {
      "text/html": [
       "<ol>\n",
       "\t<li>1.69722436226801</li>\n",
       "\t<li>5.30277563773199</li>\n",
       "</ol>\n"
      ],
      "text/latex": [
       "\\begin{enumerate}\n",
       "\\item 1.69722436226801\n",
       "\\item 5.30277563773199\n",
       "\\end{enumerate}\n"
      ],
      "text/markdown": [
       "1. 1.69722436226801\n",
       "2. 5.30277563773199\n",
       "\n",
       "\n"
      ],
      "text/plain": [
       "[[1]]\n",
       "[1] 1.697224\n",
       "\n",
       "[[2]]\n",
       "[1] 5.302776\n"
      ]
     },
     "metadata": {},
     "output_type": "display_data"
    }
   ],
   "source": [
    "abc_formula <- function(a, b, c) {\n",
    "    d <- sqrt((b*b) - (4 * a * c))\n",
    "\n",
    "    x_up <- (-b + d) / (2 * a)\n",
    "    x_low <- (-b - d) / (2 * a)\n",
    "\n",
    "    list(x_up, x_low)\n",
    "}\n",
    "\n",
    "# y = (7-x)x\n",
    "# y = 7x - x^2\n",
    "# 9 = -x^2 + 7x\n",
    "# 0 = -x^2 +7x -9\n",
    "\n",
    "abc_formula(-1, 7, -9)"
   ]
  },
  {
   "cell_type": "code",
   "execution_count": 113,
   "id": "1332b90b-74e0-4362-8de7-008e171c63b1",
   "metadata": {},
   "outputs": [
    {
     "name": "stdout",
     "output_type": "stream",
     "text": [
      "[[1]]\n",
      "[1] 47\n",
      "\n",
      "[[2]]\n",
      "[1] 84\n",
      "\n",
      "[[3]]\n",
      "[1] 74\n",
      "\n",
      "[[4]]\n",
      "[1] 67\n",
      "\n",
      "[[1]]\n",
      "[1] 207\n",
      "\n",
      "[[2]]\n",
      "[1] 1394\n",
      "\n",
      "[[3]]\n",
      "[1] 1209\n",
      "\n",
      "[[4]]\n",
      "[1] 1014\n",
      "\n"
     ]
    }
   ],
   "source": [
    "# data <- readLines(\"sampleinput.txt\")\n",
    "data <- readLines(\"input.txt\")\n",
    "max_times_s <- strsplit(data[grepl(\"Time: \", data)],' ')[[1]][-1]\n",
    "min_distance_s <- strsplit(data[grepl(\"Distance: \", data)],' ')[[1]][-1]\n",
    "max_times=lapply(max_times_s[max_times_s!=''], as.numeric)\n",
    "min_distances=lapply(min_distance_s[min_distance_s!=''], as.numeric)\n",
    "print(max_times)\n",
    "print(min_distances)"
   ]
  },
  {
   "cell_type": "code",
   "execution_count": 114,
   "id": "4475a2a3-6236-4d53-9300-fa43219fd28e",
   "metadata": {},
   "outputs": [
    {
     "data": {
      "text/html": [
       "<table class=\"dataframe\">\n",
       "<caption>A matrix: 2 × 4</caption>\n",
       "<tbody>\n",
       "\t<tr><td>5</td><td>23</td><td>25</td><td>24</td></tr>\n",
       "\t<tr><td>42</td><td>61</td><td>49</td><td>43</td></tr>\n",
       "</tbody>\n",
       "</table>\n"
      ],
      "text/latex": [
       "A matrix: 2 × 4\n",
       "\\begin{tabular}{llll}\n",
       "\t 5 & 23 & 25 & 24\\\\\n",
       "\t 42 & 61 & 49 & 43\\\\\n",
       "\\end{tabular}\n"
      ],
      "text/markdown": [
       "\n",
       "A matrix: 2 × 4\n",
       "\n",
       "| 5 | 23 | 25 | 24 |\n",
       "| 42 | 61 | 49 | 43 |\n",
       "\n"
      ],
      "text/plain": [
       "     [,1] [,2] [,3] [,4]\n",
       "[1,] 5    23   25   24  \n",
       "[2,] 42   61   49   43  "
      ]
     },
     "metadata": {},
     "output_type": "display_data"
    }
   ],
   "source": [
    "res = mapply(function (max_time, min_dist) {\n",
    "        result <- abc_formula(-1, max_time, -min_dist)\n",
    "       list(ceiling(result[[1]]+.001), floor(result[[2]]-.001)) \n",
    "    }, max_times, min_distances)\n",
    "res\n",
    "# for(idx in 1:length(max_times)) {\n",
    "#     max_time = max_times[[idx]]\n",
    "#     min_dist = min_distances[[idx]]\n",
    "\n",
    "#     result <- abc_formula(-1, max_time, -min_dist)\n",
    "#     print(list(ceiling(result[[1]]), floor(result[[2]])))\n",
    "# }"
   ]
  },
  {
   "cell_type": "code",
   "execution_count": 117,
   "id": "d3660c74-df96-4485-8849-f0be9a9d014a",
   "metadata": {},
   "outputs": [
    {
     "data": {
      "text/html": [
       "<style>\n",
       ".list-inline {list-style: none; margin:0; padding: 0}\n",
       ".list-inline>li {display: inline-block}\n",
       ".list-inline>li:not(:last-child)::after {content: \"\\00b7\"; padding: 0 .5ex}\n",
       "</style>\n",
       "<ol class=list-inline><li>38</li><li>39</li><li>25</li><li>20</li></ol>\n"
      ],
      "text/latex": [
       "\\begin{enumerate*}\n",
       "\\item 38\n",
       "\\item 39\n",
       "\\item 25\n",
       "\\item 20\n",
       "\\end{enumerate*}\n"
      ],
      "text/markdown": [
       "1. 38\n",
       "2. 39\n",
       "3. 25\n",
       "4. 20\n",
       "\n",
       "\n"
      ],
      "text/plain": [
       "[1] 38 39 25 20"
      ]
     },
     "metadata": {},
     "output_type": "display_data"
    }
   ],
   "source": [
    "winnings = mapply(function (min,max) {\n",
    "    max-min+1\n",
    "}, res[1,], res[2,])\n",
    "winnings"
   ]
  },
  {
   "cell_type": "code",
   "execution_count": null,
   "id": "b096f6d6-a20d-4245-85ed-c82dccb984d3",
   "metadata": {},
   "outputs": [],
   "source": [
    "Reduce'"
   ]
  }
 ],
 "metadata": {
  "kernelspec": {
   "display_name": "R",
   "language": "R",
   "name": "ir"
  },
  "language_info": {
   "codemirror_mode": "r",
   "file_extension": ".r",
   "mimetype": "text/x-r-source",
   "name": "R",
   "pygments_lexer": "r",
   "version": "4.3.1"
  }
 },
 "nbformat": 4,
 "nbformat_minor": 5
}
